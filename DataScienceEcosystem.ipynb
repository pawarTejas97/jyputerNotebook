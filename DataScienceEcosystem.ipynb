{
 "cells": [
  {
   "cell_type": "markdown",
   "id": "51998c12",
   "metadata": {},
   "source": [
    "# Data Science Tools and Ecosystem"
   ]
  },
  {
   "cell_type": "markdown",
   "id": "8d13efcd",
   "metadata": {},
   "source": [
    "In this notebook, Data Science Tools and Ecosystem are summarized.\n",
    "\n",
    "**Objectives:**\n",
    "\n",
    "* List popular languages for Data Science\n",
    "* List popular libraries for Data Science\n",
    "* List tools for Data Science\n",
    "* Basic formating styles and table\n",
    "* Commenting in jyputer"
   ]
  },
  {
   "cell_type": "markdown",
   "id": "a91f6062",
   "metadata": {},
   "source": [
    "Some of the popular languages that Data Scientists use are:\n",
    "\n",
    "1. Python\n",
    "2. R\n",
    "3. Scala\n",
    "    "
   ]
  },
  {
   "cell_type": "markdown",
   "id": "d79edeba",
   "metadata": {},
   "source": [
    "Some of the commonly used libraries used by Data Scientists include:\n",
    "\n",
    "1. Pandas\n",
    "2. numpy\n",
    "3. ggplot\n",
    "4. scipy\n",
    "5. Tensorflow\n",
    "6. Seaborn"
   ]
  },
  {
   "cell_type": "markdown",
   "id": "aff877d3",
   "metadata": {},
   "source": [
    "Few most commanly used tools are as follows:\n",
    "\n",
    "|Data Science Tools|Use|\n",
    "|------------------|----|\n",
    "|MySQL|Data Management|\n",
    "|PostgreSQL|Data Management|\n",
    "|NoSQL|Data Management|\n",
    "|Nodered|Data integration and deployment|\n",
    "|Pixiedust|Data visualization|\n",
    "|Tensorflow.js|Model deployment|\n",
    "|AI fairness 360|Model monitoring|\n",
    "|Github|Code assest mamagment|\n",
    "|Apache Atlas|Data assest management|"
   ]
  },
  {
   "cell_type": "markdown",
   "id": "459dfd00",
   "metadata": {},
   "source": [
    "### Below are a few examples of evaluating arithmetic expressions in Python"
   ]
  },
  {
   "cell_type": "code",
   "execution_count": 1,
   "id": "b56537bc",
   "metadata": {},
   "outputs": [
    {
     "data": {
      "text/plain": [
       "17"
      ]
     },
     "execution_count": 1,
     "metadata": {},
     "output_type": "execute_result"
    }
   ],
   "source": [
    "#This a simple arithmetic expression to mutiply then add integers\n",
    "(3*4)+5"
   ]
  },
  {
   "cell_type": "code",
   "execution_count": 2,
   "id": "81508676",
   "metadata": {},
   "outputs": [
    {
     "data": {
      "text/plain": [
       "3.3333333333333335"
      ]
     },
     "execution_count": 2,
     "metadata": {},
     "output_type": "execute_result"
    }
   ],
   "source": [
    "#This will convert 200 minutes to hours by diving by 60\n",
    "200/60"
   ]
  },
  {
   "cell_type": "markdown",
   "id": "984976c3",
   "metadata": {},
   "source": [
    "## Author Tejas Vishnu Pawar"
   ]
  },
  {
   "cell_type": "code",
   "execution_count": null,
   "id": "22ace760",
   "metadata": {},
   "outputs": [],
   "source": []
  }
 ],
 "metadata": {
  "kernelspec": {
   "display_name": "Python 3 (ipykernel)",
   "language": "python",
   "name": "python3"
  },
  "language_info": {
   "codemirror_mode": {
    "name": "ipython",
    "version": 3
   },
   "file_extension": ".py",
   "mimetype": "text/x-python",
   "name": "python",
   "nbconvert_exporter": "python",
   "pygments_lexer": "ipython3",
   "version": "3.11.1"
  }
 },
 "nbformat": 4,
 "nbformat_minor": 5
}
